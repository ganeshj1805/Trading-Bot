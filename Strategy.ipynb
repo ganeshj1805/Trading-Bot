{
 "cells": [
  {
   "cell_type": "code",
   "execution_count": null,
   "id": "a1a50958-80b4-4928-84bf-5fcac4233817",
   "metadata": {
    "tags": []
   },
   "outputs": [],
   "source": [
    "import MetaTrader5 as mt\n",
    "from datetime import datetime\n",
    "import pandas as pd\n",
    "import numpy as np\n",
    "import matplotlib.pyplot as plt\n",
    "from itertools import product\n",
    "from technical_analysis import moving_average\n",
    "from technical_analysis.backtest import Backtest\n",
    "from technical_analysis.backtest.strategy import MovingAverageCrossover\n",
    "from technical_analysis import overlays\n",
    "import time\n",
    "plt.style.use(\"seaborn-v0_8\")"
   ]
  },
  {
   "cell_type": "code",
   "execution_count": null,
   "id": "249b7a56-c8f7-438b-bdf3-796e1fb31ba4",
   "metadata": {
    "tags": []
   },
   "outputs": [],
   "source": [
    "mt.initialize()"
   ]
  },
  {
   "cell_type": "code",
   "execution_count": null,
   "id": "5e83aefa-e9a1-4457-ba06-71772b755521",
   "metadata": {
    "tags": []
   },
   "outputs": [],
   "source": [
    "login = *********\n",
    "password = '#######'\n",
    "server = 'Exness-MT5Trial7'"
   ]
  },
  {
   "cell_type": "code",
   "execution_count": null,
   "id": "4071e517-dfe0-454e-86a3-0f2919aace2f",
   "metadata": {
    "tags": []
   },
   "outputs": [],
   "source": [
    "mt.login(login,password,server)"
   ]
  },
  {
   "cell_type": "code",
   "execution_count": null,
   "id": "b62eab37-2807-4aac-8a77-65ffec00c4e0",
   "metadata": {
    "tags": []
   },
   "outputs": [],
   "source": [
    "ticker = 'XAUUSDm'\n",
    "qty = 0.01\n",
    "buy_order_type = mt.ORDER_TYPE_BUY\n",
    "sell_order_type = mt.ORDER_TYPE_SELL\n",
    "buy_price = mt.symbol_info_tick(ticker).bid\n",
    "sell_price = mt.symbol_info_tick(ticker).ask"
   ]
  },
  {
   "cell_type": "code",
   "execution_count": null,
   "id": "cf17997a-69b6-4c16-b3c1-7d2862787c26",
   "metadata": {
    "tags": []
   },
   "outputs": [],
   "source": [
    "ticker = 'XAUUSDm'\n",
    "qty = 1.00\n",
    "buy_order_type = mt.ORDER_TYPE_BUY\n",
    "sell_order_type = mt.ORDER_TYPE_SELL\n",
    "buy_price = mt.symbol_info_tick(ticker).bid\n",
    "sell_price = mt.symbol_info_tick(ticker).ask\n",
    "buy_sl = buy_price - 1.200\n",
    "buy_tp = buy_price + 6.300\n",
    "sell_sl = sell_price + 1.200\n",
    "sell_tp = sell_price - 6.300\n",
    "\n",
    "def create_buy_order() :\n",
    "    request = {\n",
    "        \"action\": mt.TRADE_ACTION_DEAL,\n",
    "        \"symbol\": 'XAUUSDm',\n",
    "        \"volume\": 0.01,\n",
    "        \"type\": mt.ORDER_TYPE_BUY,\n",
    "        \"price\" : mt.symbol_info_tick(ticker).bid,\n",
    "        \"sl\": mt.symbol_info_tick(ticker).bid - 1.300,\n",
    "        \"tp\": mt.symbol_info_tick(ticker).bid + 5.200,\n",
    "        \"comment\": \"Python open Position\",\n",
    "        \"type_time\":mt.ORDER_TIME_GTC,\n",
    "        \"type_filling\": mt.ORDER_FILLING_IOC\n",
    "    }\n",
    "    # send a trading request\n",
    "    order = mt.order_send(request)\n",
    "    return order\n",
    "\n",
    "\n",
    "def create_sell_order() :\n",
    "    request = {\n",
    "        \"action\": mt.TRADE_ACTION_DEAL,\n",
    "        \"symbol\": 'XAUUSDm',\n",
    "        \"volume\": 0.01,\n",
    "        \"type\": mt.ORDER_TYPE_SELL,\n",
    "        \"price\" : mt.symbol_info_tick(ticker).ask,\n",
    "        \"sl\": mt.symbol_info_tick(ticker).ask + 1.300,\n",
    "        \"tp\": mt.symbol_info_tick(ticker).ask - 5.200,\n",
    "        \"comment\": \"Python open Position\",\n",
    "        \"type_time\":mt.ORDER_TIME_GTC,\n",
    "        \"type_filling\": mt.ORDER_FILLING_IOC\n",
    "    }\n",
    "    # send a trading request\n",
    "    order = mt.order_send(request)\n",
    "    return order\n",
    "\n",
    "\n",
    "def close_buy_order() :\n",
    "    request = {\n",
    "        \"action\": mt.TRADE_ACTION_DEAL,\n",
    "        \"symbol\": 'XAUUSDm',\n",
    "        \"volume\": 0.01,\n",
    "        \"type\": mt.ORDER_TYPE_BUY,\n",
    "        \"position\": mt.positions_get()[0]._asdict()[\"ticket\"],\n",
    "        \"price\" :  mt.symbol_info_tick(ticker).bid,\n",
    "        \"comment\": \"Close Position\",\n",
    "        \"type_time\":mt.ORDER_TIME_GTC,\n",
    "        \"type_filling\": mt.ORDER_FILLING_IOC\n",
    "    }\n",
    "    result = mt.order_send(request)\n",
    "\n",
    "\n",
    "def close_sell_order() :\n",
    "    request = {\n",
    "        \"action\": mt.TRADE_ACTION_DEAL,\n",
    "        \"symbol\": 'XAUUSDm',\n",
    "        \"volume\": 0.01,\n",
    "        \"type\": mt.ORDER_TYPE_SELL,\n",
    "        \"position\": mt.positions_get()[0]._asdict()[\"ticket\"],\n",
    "        \"price\" : mt.symbol_info_tick(ticker).ask,\n",
    "        \"comment\": \"Close Position\",\n",
    "        \"type_time\":mt.ORDER_TIME_GTC,\n",
    "        \"type_filling\": mt.ORDER_FILLING_IOC\n",
    "    }\n",
    "    result = mt.order_send(request)\n",
    "    \n",
    "    # send a trading request\n",
    "    result = mt.order_send(request)\n"
   ]
  },
  {
   "cell_type": "code",
   "execution_count": null,
   "id": "10a7f741-c4aa-4943-8038-8b5bf5776fb4",
   "metadata": {
    "tags": []
   },
   "outputs": [],
   "source": [
    "count = 0\n",
    "account_info = mt.account_info()\n",
    "account_balance = account_info.balance\n",
    "loss_target = account_balance - 7.500\n",
    "print(account_balance)\n",
    "print(loss_target)"
   ]
  },
  {
   "cell_type": "code",
   "execution_count": null,
   "id": "0185cb56-662a-4043-94b5-38b55f8ab4a5",
   "metadata": {
    "tags": []
   },
   "outputs": [],
   "source": [
    "for i in range(200) :\n",
    "    account_info = mt.account_info()\n",
    "    account_balance = account_info.balance\n",
    "    \n",
    "    if account_balance >= loss_target :\n",
    "\n",
    "        ohlc = pd.DataFrame(mt.copy_rates_range('XAUUSDm',mt.TIMEFRAME_M1,datetime(2024,2,15),datetime.now()))\n",
    "        ohlc['time'] = pd.to_datetime(ohlc['time'],unit='s')\n",
    "\n",
    "        ohlc[\"ema_s\"] = moving_average.ema(ohlc.close, period=1)\n",
    "        ohlc[\"ema_l\"] = moving_average.ema(ohlc.close, period=2)\n",
    "\n",
    "        ohlc[\"position\"] = np.where(ohlc[\"ema_s\"] > ohlc[\"ema_l\"], 1, -1 )\n",
    "        ohlc.dropna(inplace = True)\n",
    "        data = ohlc.iloc[-1]\n",
    "\n",
    "\n",
    "        # if mt.positions_get()[0]._asdict()[\"symbol\"] != 'XAUUSDm' :\n",
    "        #     #if mt.positions_get()[-1]._asdict()[\"ticket\"]\n",
    "                    \n",
    "        if len(mt.positions_get()) == 1 :\n",
    "            if mt.positions_get()[0]._asdict()[\"type\"] == 0 :\n",
    "                if data.position == -1 :\n",
    "                    close_buy_order()\n",
    "                    print(\"Buy order closed\")\n",
    "            if mt.positions_get()[0]._asdict()[\"type\"] == 1 :\n",
    "                if data.position == +1 :\n",
    "                    close_sell_order()\n",
    "                    print(\"Sell order closed\")\n",
    " \n",
    "\n",
    "        if len(mt.positions_get()) == 0 :\n",
    "            if data.position == 1 :\n",
    "                #if data.close > data.ema_s :\n",
    "                create_buy_order()\n",
    "                print(\"Buy order placed\")\n",
    "            elif data.position == -1 :\n",
    "                #if data.close < data.ema_s :\n",
    "                create_sell_order()\n",
    "                print(\"Sell order placed\")\n",
    "            \n",
    "\n",
    "        count += 1    \n",
    "        print(ohlc)\n",
    "        print(count)\n",
    "        print(account_balance)\n",
    "        print(loss_target)\n",
    "        time.sleep(60)"
   ]
  },
  {
   "cell_type": "code",
   "execution_count": null,
   "id": "86f03a68-5d71-47c2-8f72-7ff956477fbb",
   "metadata": {},
   "outputs": [],
   "source": []
  },
  {
   "cell_type": "code",
   "execution_count": null,
   "id": "144551af-1124-4fac-8041-734e0725f68a",
   "metadata": {},
   "outputs": [],
   "source": []
  },
  {
   "cell_type": "code",
   "execution_count": null,
   "id": "d2139bb9-eced-4749-be05-eb591ce410c0",
   "metadata": {},
   "outputs": [],
   "source": []
  },
  {
   "cell_type": "code",
   "execution_count": null,
   "id": "cdb42826-e9ce-4e81-8779-2a5fd32f7f62",
   "metadata": {},
   "outputs": [],
   "source": []
  }
 ],
 "metadata": {
  "kernelspec": {
   "display_name": "Python 3 (ipykernel)",
   "language": "python",
   "name": "python3"
  },
  "language_info": {
   "codemirror_mode": {
    "name": "ipython",
    "version": 3
   },
   "file_extension": ".py",
   "mimetype": "text/x-python",
   "name": "python",
   "nbconvert_exporter": "python",
   "pygments_lexer": "ipython3",
   "version": "3.11.5"
  }
 },
 "nbformat": 4,
 "nbformat_minor": 5
}
